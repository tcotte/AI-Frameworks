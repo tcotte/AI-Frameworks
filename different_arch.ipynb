{
  "nbformat": 4,
  "nbformat_minor": 0,
  "metadata": {
    "colab": {
      "name": "different_arch.ipynb",
      "provenance": [],
      "toc_visible": true,
      "authorship_tag": "ABX9TyNLueKnMAPi/tsMO1sf8lzB",
      "include_colab_link": true
    },
    "kernelspec": {
      "name": "python3",
      "display_name": "Python 3"
    },
    "accelerator": "GPU",
    "widgets": {
      "application/vnd.jupyter.widget-state+json": {
        "077e72c77c064f398f988f5a5f7750bc": {
          "model_module": "@jupyter-widgets/controls",
          "model_name": "HBoxModel",
          "state": {
            "_view_name": "HBoxView",
            "_dom_classes": [],
            "_model_name": "HBoxModel",
            "_view_module": "@jupyter-widgets/controls",
            "_model_module_version": "1.5.0",
            "_view_count": null,
            "_view_module_version": "1.5.0",
            "box_style": "",
            "layout": "IPY_MODEL_f44f85a1d6d34e879f6745d755276bee",
            "_model_module": "@jupyter-widgets/controls",
            "children": [
              "IPY_MODEL_e2240519da2b4aa2a19682e7c405e98d",
              "IPY_MODEL_3752bc1362f747a680b18f06b427dd9d"
            ]
          }
        },
        "f44f85a1d6d34e879f6745d755276bee": {
          "model_module": "@jupyter-widgets/base",
          "model_name": "LayoutModel",
          "state": {
            "_view_name": "LayoutView",
            "grid_template_rows": null,
            "right": null,
            "justify_content": null,
            "_view_module": "@jupyter-widgets/base",
            "overflow": null,
            "_model_module_version": "1.2.0",
            "_view_count": null,
            "flex_flow": null,
            "width": null,
            "min_width": null,
            "border": null,
            "align_items": null,
            "bottom": null,
            "_model_module": "@jupyter-widgets/base",
            "top": null,
            "grid_column": null,
            "overflow_y": null,
            "overflow_x": null,
            "grid_auto_flow": null,
            "grid_area": null,
            "grid_template_columns": null,
            "flex": null,
            "_model_name": "LayoutModel",
            "justify_items": null,
            "grid_row": null,
            "max_height": null,
            "align_content": null,
            "visibility": null,
            "align_self": null,
            "height": null,
            "min_height": null,
            "padding": null,
            "grid_auto_rows": null,
            "grid_gap": null,
            "max_width": null,
            "order": null,
            "_view_module_version": "1.2.0",
            "grid_template_areas": null,
            "object_position": null,
            "object_fit": null,
            "grid_auto_columns": null,
            "margin": null,
            "display": null,
            "left": null
          }
        },
        "e2240519da2b4aa2a19682e7c405e98d": {
          "model_module": "@jupyter-widgets/controls",
          "model_name": "FloatProgressModel",
          "state": {
            "_view_name": "ProgressView",
            "style": "IPY_MODEL_a71b058731874f62af4abb3156a1befe",
            "_dom_classes": [],
            "description": "",
            "_model_name": "FloatProgressModel",
            "bar_style": "success",
            "max": 1,
            "_view_module": "@jupyter-widgets/controls",
            "_model_module_version": "1.5.0",
            "value": 1,
            "_view_count": null,
            "_view_module_version": "1.5.0",
            "orientation": "horizontal",
            "min": 0,
            "description_tooltip": null,
            "_model_module": "@jupyter-widgets/controls",
            "layout": "IPY_MODEL_d66c80f7d58449e7893d1ea9207623a0"
          }
        },
        "3752bc1362f747a680b18f06b427dd9d": {
          "model_module": "@jupyter-widgets/controls",
          "model_name": "HTMLModel",
          "state": {
            "_view_name": "HTMLView",
            "style": "IPY_MODEL_0906aa5a9457411f84f39f9b8d82f6f9",
            "_dom_classes": [],
            "description": "",
            "_model_name": "HTMLModel",
            "placeholder": "​",
            "_view_module": "@jupyter-widgets/controls",
            "_model_module_version": "1.5.0",
            "value": " 26427392/? [00:05&lt;00:00, 4502264.04it/s]",
            "_view_count": null,
            "_view_module_version": "1.5.0",
            "description_tooltip": null,
            "_model_module": "@jupyter-widgets/controls",
            "layout": "IPY_MODEL_92173970b3a7466d9a01f67d1a837203"
          }
        },
        "a71b058731874f62af4abb3156a1befe": {
          "model_module": "@jupyter-widgets/controls",
          "model_name": "ProgressStyleModel",
          "state": {
            "_view_name": "StyleView",
            "_model_name": "ProgressStyleModel",
            "description_width": "initial",
            "_view_module": "@jupyter-widgets/base",
            "_model_module_version": "1.5.0",
            "_view_count": null,
            "_view_module_version": "1.2.0",
            "bar_color": null,
            "_model_module": "@jupyter-widgets/controls"
          }
        },
        "d66c80f7d58449e7893d1ea9207623a0": {
          "model_module": "@jupyter-widgets/base",
          "model_name": "LayoutModel",
          "state": {
            "_view_name": "LayoutView",
            "grid_template_rows": null,
            "right": null,
            "justify_content": null,
            "_view_module": "@jupyter-widgets/base",
            "overflow": null,
            "_model_module_version": "1.2.0",
            "_view_count": null,
            "flex_flow": null,
            "width": null,
            "min_width": null,
            "border": null,
            "align_items": null,
            "bottom": null,
            "_model_module": "@jupyter-widgets/base",
            "top": null,
            "grid_column": null,
            "overflow_y": null,
            "overflow_x": null,
            "grid_auto_flow": null,
            "grid_area": null,
            "grid_template_columns": null,
            "flex": null,
            "_model_name": "LayoutModel",
            "justify_items": null,
            "grid_row": null,
            "max_height": null,
            "align_content": null,
            "visibility": null,
            "align_self": null,
            "height": null,
            "min_height": null,
            "padding": null,
            "grid_auto_rows": null,
            "grid_gap": null,
            "max_width": null,
            "order": null,
            "_view_module_version": "1.2.0",
            "grid_template_areas": null,
            "object_position": null,
            "object_fit": null,
            "grid_auto_columns": null,
            "margin": null,
            "display": null,
            "left": null
          }
        },
        "0906aa5a9457411f84f39f9b8d82f6f9": {
          "model_module": "@jupyter-widgets/controls",
          "model_name": "DescriptionStyleModel",
          "state": {
            "_view_name": "StyleView",
            "_model_name": "DescriptionStyleModel",
            "description_width": "",
            "_view_module": "@jupyter-widgets/base",
            "_model_module_version": "1.5.0",
            "_view_count": null,
            "_view_module_version": "1.2.0",
            "_model_module": "@jupyter-widgets/controls"
          }
        },
        "92173970b3a7466d9a01f67d1a837203": {
          "model_module": "@jupyter-widgets/base",
          "model_name": "LayoutModel",
          "state": {
            "_view_name": "LayoutView",
            "grid_template_rows": null,
            "right": null,
            "justify_content": null,
            "_view_module": "@jupyter-widgets/base",
            "overflow": null,
            "_model_module_version": "1.2.0",
            "_view_count": null,
            "flex_flow": null,
            "width": null,
            "min_width": null,
            "border": null,
            "align_items": null,
            "bottom": null,
            "_model_module": "@jupyter-widgets/base",
            "top": null,
            "grid_column": null,
            "overflow_y": null,
            "overflow_x": null,
            "grid_auto_flow": null,
            "grid_area": null,
            "grid_template_columns": null,
            "flex": null,
            "_model_name": "LayoutModel",
            "justify_items": null,
            "grid_row": null,
            "max_height": null,
            "align_content": null,
            "visibility": null,
            "align_self": null,
            "height": null,
            "min_height": null,
            "padding": null,
            "grid_auto_rows": null,
            "grid_gap": null,
            "max_width": null,
            "order": null,
            "_view_module_version": "1.2.0",
            "grid_template_areas": null,
            "object_position": null,
            "object_fit": null,
            "grid_auto_columns": null,
            "margin": null,
            "display": null,
            "left": null
          }
        },
        "e90c00934f304895af456ba671ac20a9": {
          "model_module": "@jupyter-widgets/controls",
          "model_name": "HBoxModel",
          "state": {
            "_view_name": "HBoxView",
            "_dom_classes": [],
            "_model_name": "HBoxModel",
            "_view_module": "@jupyter-widgets/controls",
            "_model_module_version": "1.5.0",
            "_view_count": null,
            "_view_module_version": "1.5.0",
            "box_style": "",
            "layout": "IPY_MODEL_d3a36616153040fd8c6d7022615225bb",
            "_model_module": "@jupyter-widgets/controls",
            "children": [
              "IPY_MODEL_8c19a566cc2247fa8ac49257188d6f4d",
              "IPY_MODEL_bd627568b7bc49afa2c040eea3674ea2"
            ]
          }
        },
        "d3a36616153040fd8c6d7022615225bb": {
          "model_module": "@jupyter-widgets/base",
          "model_name": "LayoutModel",
          "state": {
            "_view_name": "LayoutView",
            "grid_template_rows": null,
            "right": null,
            "justify_content": null,
            "_view_module": "@jupyter-widgets/base",
            "overflow": null,
            "_model_module_version": "1.2.0",
            "_view_count": null,
            "flex_flow": null,
            "width": null,
            "min_width": null,
            "border": null,
            "align_items": null,
            "bottom": null,
            "_model_module": "@jupyter-widgets/base",
            "top": null,
            "grid_column": null,
            "overflow_y": null,
            "overflow_x": null,
            "grid_auto_flow": null,
            "grid_area": null,
            "grid_template_columns": null,
            "flex": null,
            "_model_name": "LayoutModel",
            "justify_items": null,
            "grid_row": null,
            "max_height": null,
            "align_content": null,
            "visibility": null,
            "align_self": null,
            "height": null,
            "min_height": null,
            "padding": null,
            "grid_auto_rows": null,
            "grid_gap": null,
            "max_width": null,
            "order": null,
            "_view_module_version": "1.2.0",
            "grid_template_areas": null,
            "object_position": null,
            "object_fit": null,
            "grid_auto_columns": null,
            "margin": null,
            "display": null,
            "left": null
          }
        },
        "8c19a566cc2247fa8ac49257188d6f4d": {
          "model_module": "@jupyter-widgets/controls",
          "model_name": "FloatProgressModel",
          "state": {
            "_view_name": "ProgressView",
            "style": "IPY_MODEL_6f7f2593e8834a588fed97d9f46bfb89",
            "_dom_classes": [],
            "description": "",
            "_model_name": "FloatProgressModel",
            "bar_style": "success",
            "max": 1,
            "_view_module": "@jupyter-widgets/controls",
            "_model_module_version": "1.5.0",
            "value": 1,
            "_view_count": null,
            "_view_module_version": "1.5.0",
            "orientation": "horizontal",
            "min": 0,
            "description_tooltip": null,
            "_model_module": "@jupyter-widgets/controls",
            "layout": "IPY_MODEL_80e96678cfdf48a8bec97a985daa2c25"
          }
        },
        "bd627568b7bc49afa2c040eea3674ea2": {
          "model_module": "@jupyter-widgets/controls",
          "model_name": "HTMLModel",
          "state": {
            "_view_name": "HTMLView",
            "style": "IPY_MODEL_d9f21b1eae264592b105a36b92e66994",
            "_dom_classes": [],
            "description": "",
            "_model_name": "HTMLModel",
            "placeholder": "​",
            "_view_module": "@jupyter-widgets/controls",
            "_model_module_version": "1.5.0",
            "value": " 32768/? [00:02&lt;00:00, 12336.46it/s]",
            "_view_count": null,
            "_view_module_version": "1.5.0",
            "description_tooltip": null,
            "_model_module": "@jupyter-widgets/controls",
            "layout": "IPY_MODEL_4349b89a1efe42038b9efdb7afb24f3c"
          }
        },
        "6f7f2593e8834a588fed97d9f46bfb89": {
          "model_module": "@jupyter-widgets/controls",
          "model_name": "ProgressStyleModel",
          "state": {
            "_view_name": "StyleView",
            "_model_name": "ProgressStyleModel",
            "description_width": "initial",
            "_view_module": "@jupyter-widgets/base",
            "_model_module_version": "1.5.0",
            "_view_count": null,
            "_view_module_version": "1.2.0",
            "bar_color": null,
            "_model_module": "@jupyter-widgets/controls"
          }
        },
        "80e96678cfdf48a8bec97a985daa2c25": {
          "model_module": "@jupyter-widgets/base",
          "model_name": "LayoutModel",
          "state": {
            "_view_name": "LayoutView",
            "grid_template_rows": null,
            "right": null,
            "justify_content": null,
            "_view_module": "@jupyter-widgets/base",
            "overflow": null,
            "_model_module_version": "1.2.0",
            "_view_count": null,
            "flex_flow": null,
            "width": null,
            "min_width": null,
            "border": null,
            "align_items": null,
            "bottom": null,
            "_model_module": "@jupyter-widgets/base",
            "top": null,
            "grid_column": null,
            "overflow_y": null,
            "overflow_x": null,
            "grid_auto_flow": null,
            "grid_area": null,
            "grid_template_columns": null,
            "flex": null,
            "_model_name": "LayoutModel",
            "justify_items": null,
            "grid_row": null,
            "max_height": null,
            "align_content": null,
            "visibility": null,
            "align_self": null,
            "height": null,
            "min_height": null,
            "padding": null,
            "grid_auto_rows": null,
            "grid_gap": null,
            "max_width": null,
            "order": null,
            "_view_module_version": "1.2.0",
            "grid_template_areas": null,
            "object_position": null,
            "object_fit": null,
            "grid_auto_columns": null,
            "margin": null,
            "display": null,
            "left": null
          }
        },
        "d9f21b1eae264592b105a36b92e66994": {
          "model_module": "@jupyter-widgets/controls",
          "model_name": "DescriptionStyleModel",
          "state": {
            "_view_name": "StyleView",
            "_model_name": "DescriptionStyleModel",
            "description_width": "",
            "_view_module": "@jupyter-widgets/base",
            "_model_module_version": "1.5.0",
            "_view_count": null,
            "_view_module_version": "1.2.0",
            "_model_module": "@jupyter-widgets/controls"
          }
        },
        "4349b89a1efe42038b9efdb7afb24f3c": {
          "model_module": "@jupyter-widgets/base",
          "model_name": "LayoutModel",
          "state": {
            "_view_name": "LayoutView",
            "grid_template_rows": null,
            "right": null,
            "justify_content": null,
            "_view_module": "@jupyter-widgets/base",
            "overflow": null,
            "_model_module_version": "1.2.0",
            "_view_count": null,
            "flex_flow": null,
            "width": null,
            "min_width": null,
            "border": null,
            "align_items": null,
            "bottom": null,
            "_model_module": "@jupyter-widgets/base",
            "top": null,
            "grid_column": null,
            "overflow_y": null,
            "overflow_x": null,
            "grid_auto_flow": null,
            "grid_area": null,
            "grid_template_columns": null,
            "flex": null,
            "_model_name": "LayoutModel",
            "justify_items": null,
            "grid_row": null,
            "max_height": null,
            "align_content": null,
            "visibility": null,
            "align_self": null,
            "height": null,
            "min_height": null,
            "padding": null,
            "grid_auto_rows": null,
            "grid_gap": null,
            "max_width": null,
            "order": null,
            "_view_module_version": "1.2.0",
            "grid_template_areas": null,
            "object_position": null,
            "object_fit": null,
            "grid_auto_columns": null,
            "margin": null,
            "display": null,
            "left": null
          }
        },
        "4eccd154f3a34690be020150a4063c43": {
          "model_module": "@jupyter-widgets/controls",
          "model_name": "HBoxModel",
          "state": {
            "_view_name": "HBoxView",
            "_dom_classes": [],
            "_model_name": "HBoxModel",
            "_view_module": "@jupyter-widgets/controls",
            "_model_module_version": "1.5.0",
            "_view_count": null,
            "_view_module_version": "1.5.0",
            "box_style": "",
            "layout": "IPY_MODEL_d0518046970646a1a29b67eaa8419f12",
            "_model_module": "@jupyter-widgets/controls",
            "children": [
              "IPY_MODEL_ec2e964d6ca64f1d94df3668ec6459f8",
              "IPY_MODEL_9ca33871694b4cf6ba7d2d0498084e21"
            ]
          }
        },
        "d0518046970646a1a29b67eaa8419f12": {
          "model_module": "@jupyter-widgets/base",
          "model_name": "LayoutModel",
          "state": {
            "_view_name": "LayoutView",
            "grid_template_rows": null,
            "right": null,
            "justify_content": null,
            "_view_module": "@jupyter-widgets/base",
            "overflow": null,
            "_model_module_version": "1.2.0",
            "_view_count": null,
            "flex_flow": null,
            "width": null,
            "min_width": null,
            "border": null,
            "align_items": null,
            "bottom": null,
            "_model_module": "@jupyter-widgets/base",
            "top": null,
            "grid_column": null,
            "overflow_y": null,
            "overflow_x": null,
            "grid_auto_flow": null,
            "grid_area": null,
            "grid_template_columns": null,
            "flex": null,
            "_model_name": "LayoutModel",
            "justify_items": null,
            "grid_row": null,
            "max_height": null,
            "align_content": null,
            "visibility": null,
            "align_self": null,
            "height": null,
            "min_height": null,
            "padding": null,
            "grid_auto_rows": null,
            "grid_gap": null,
            "max_width": null,
            "order": null,
            "_view_module_version": "1.2.0",
            "grid_template_areas": null,
            "object_position": null,
            "object_fit": null,
            "grid_auto_columns": null,
            "margin": null,
            "display": null,
            "left": null
          }
        },
        "ec2e964d6ca64f1d94df3668ec6459f8": {
          "model_module": "@jupyter-widgets/controls",
          "model_name": "FloatProgressModel",
          "state": {
            "_view_name": "ProgressView",
            "style": "IPY_MODEL_3b035988093e420cbdd65de04f7b5a39",
            "_dom_classes": [],
            "description": "",
            "_model_name": "FloatProgressModel",
            "bar_style": "success",
            "max": 1,
            "_view_module": "@jupyter-widgets/controls",
            "_model_module_version": "1.5.0",
            "value": 1,
            "_view_count": null,
            "_view_module_version": "1.5.0",
            "orientation": "horizontal",
            "min": 0,
            "description_tooltip": null,
            "_model_module": "@jupyter-widgets/controls",
            "layout": "IPY_MODEL_769617c665274b2cace4b8e0b8b6865b"
          }
        },
        "9ca33871694b4cf6ba7d2d0498084e21": {
          "model_module": "@jupyter-widgets/controls",
          "model_name": "HTMLModel",
          "state": {
            "_view_name": "HTMLView",
            "style": "IPY_MODEL_0aead8d1e0e04698a7069e7b10cee7e1",
            "_dom_classes": [],
            "description": "",
            "_model_name": "HTMLModel",
            "placeholder": "​",
            "_view_module": "@jupyter-widgets/controls",
            "_model_module_version": "1.5.0",
            "value": " 4423680/? [00:02&lt;00:00, 2067531.90it/s]",
            "_view_count": null,
            "_view_module_version": "1.5.0",
            "description_tooltip": null,
            "_model_module": "@jupyter-widgets/controls",
            "layout": "IPY_MODEL_abcdf892e1ad43148443162d9a318086"
          }
        },
        "3b035988093e420cbdd65de04f7b5a39": {
          "model_module": "@jupyter-widgets/controls",
          "model_name": "ProgressStyleModel",
          "state": {
            "_view_name": "StyleView",
            "_model_name": "ProgressStyleModel",
            "description_width": "initial",
            "_view_module": "@jupyter-widgets/base",
            "_model_module_version": "1.5.0",
            "_view_count": null,
            "_view_module_version": "1.2.0",
            "bar_color": null,
            "_model_module": "@jupyter-widgets/controls"
          }
        },
        "769617c665274b2cace4b8e0b8b6865b": {
          "model_module": "@jupyter-widgets/base",
          "model_name": "LayoutModel",
          "state": {
            "_view_name": "LayoutView",
            "grid_template_rows": null,
            "right": null,
            "justify_content": null,
            "_view_module": "@jupyter-widgets/base",
            "overflow": null,
            "_model_module_version": "1.2.0",
            "_view_count": null,
            "flex_flow": null,
            "width": null,
            "min_width": null,
            "border": null,
            "align_items": null,
            "bottom": null,
            "_model_module": "@jupyter-widgets/base",
            "top": null,
            "grid_column": null,
            "overflow_y": null,
            "overflow_x": null,
            "grid_auto_flow": null,
            "grid_area": null,
            "grid_template_columns": null,
            "flex": null,
            "_model_name": "LayoutModel",
            "justify_items": null,
            "grid_row": null,
            "max_height": null,
            "align_content": null,
            "visibility": null,
            "align_self": null,
            "height": null,
            "min_height": null,
            "padding": null,
            "grid_auto_rows": null,
            "grid_gap": null,
            "max_width": null,
            "order": null,
            "_view_module_version": "1.2.0",
            "grid_template_areas": null,
            "object_position": null,
            "object_fit": null,
            "grid_auto_columns": null,
            "margin": null,
            "display": null,
            "left": null
          }
        },
        "0aead8d1e0e04698a7069e7b10cee7e1": {
          "model_module": "@jupyter-widgets/controls",
          "model_name": "DescriptionStyleModel",
          "state": {
            "_view_name": "StyleView",
            "_model_name": "DescriptionStyleModel",
            "description_width": "",
            "_view_module": "@jupyter-widgets/base",
            "_model_module_version": "1.5.0",
            "_view_count": null,
            "_view_module_version": "1.2.0",
            "_model_module": "@jupyter-widgets/controls"
          }
        },
        "abcdf892e1ad43148443162d9a318086": {
          "model_module": "@jupyter-widgets/base",
          "model_name": "LayoutModel",
          "state": {
            "_view_name": "LayoutView",
            "grid_template_rows": null,
            "right": null,
            "justify_content": null,
            "_view_module": "@jupyter-widgets/base",
            "overflow": null,
            "_model_module_version": "1.2.0",
            "_view_count": null,
            "flex_flow": null,
            "width": null,
            "min_width": null,
            "border": null,
            "align_items": null,
            "bottom": null,
            "_model_module": "@jupyter-widgets/base",
            "top": null,
            "grid_column": null,
            "overflow_y": null,
            "overflow_x": null,
            "grid_auto_flow": null,
            "grid_area": null,
            "grid_template_columns": null,
            "flex": null,
            "_model_name": "LayoutModel",
            "justify_items": null,
            "grid_row": null,
            "max_height": null,
            "align_content": null,
            "visibility": null,
            "align_self": null,
            "height": null,
            "min_height": null,
            "padding": null,
            "grid_auto_rows": null,
            "grid_gap": null,
            "max_width": null,
            "order": null,
            "_view_module_version": "1.2.0",
            "grid_template_areas": null,
            "object_position": null,
            "object_fit": null,
            "grid_auto_columns": null,
            "margin": null,
            "display": null,
            "left": null
          }
        },
        "7ab373ab7da9439590ec913e7521a33e": {
          "model_module": "@jupyter-widgets/controls",
          "model_name": "HBoxModel",
          "state": {
            "_view_name": "HBoxView",
            "_dom_classes": [],
            "_model_name": "HBoxModel",
            "_view_module": "@jupyter-widgets/controls",
            "_model_module_version": "1.5.0",
            "_view_count": null,
            "_view_module_version": "1.5.0",
            "box_style": "",
            "layout": "IPY_MODEL_fd9cec91edd64efab4cf31632db84bd6",
            "_model_module": "@jupyter-widgets/controls",
            "children": [
              "IPY_MODEL_52f580eb4b6546ffb8669ec9b7fb47b6",
              "IPY_MODEL_2430cc10b02941f0a0ff66b653c6bd0b"
            ]
          }
        },
        "fd9cec91edd64efab4cf31632db84bd6": {
          "model_module": "@jupyter-widgets/base",
          "model_name": "LayoutModel",
          "state": {
            "_view_name": "LayoutView",
            "grid_template_rows": null,
            "right": null,
            "justify_content": null,
            "_view_module": "@jupyter-widgets/base",
            "overflow": null,
            "_model_module_version": "1.2.0",
            "_view_count": null,
            "flex_flow": null,
            "width": null,
            "min_width": null,
            "border": null,
            "align_items": null,
            "bottom": null,
            "_model_module": "@jupyter-widgets/base",
            "top": null,
            "grid_column": null,
            "overflow_y": null,
            "overflow_x": null,
            "grid_auto_flow": null,
            "grid_area": null,
            "grid_template_columns": null,
            "flex": null,
            "_model_name": "LayoutModel",
            "justify_items": null,
            "grid_row": null,
            "max_height": null,
            "align_content": null,
            "visibility": null,
            "align_self": null,
            "height": null,
            "min_height": null,
            "padding": null,
            "grid_auto_rows": null,
            "grid_gap": null,
            "max_width": null,
            "order": null,
            "_view_module_version": "1.2.0",
            "grid_template_areas": null,
            "object_position": null,
            "object_fit": null,
            "grid_auto_columns": null,
            "margin": null,
            "display": null,
            "left": null
          }
        },
        "52f580eb4b6546ffb8669ec9b7fb47b6": {
          "model_module": "@jupyter-widgets/controls",
          "model_name": "FloatProgressModel",
          "state": {
            "_view_name": "ProgressView",
            "style": "IPY_MODEL_aecc04fc4c944ee6af4b98a0f7a79a39",
            "_dom_classes": [],
            "description": "",
            "_model_name": "FloatProgressModel",
            "bar_style": "success",
            "max": 1,
            "_view_module": "@jupyter-widgets/controls",
            "_model_module_version": "1.5.0",
            "value": 1,
            "_view_count": null,
            "_view_module_version": "1.5.0",
            "orientation": "horizontal",
            "min": 0,
            "description_tooltip": null,
            "_model_module": "@jupyter-widgets/controls",
            "layout": "IPY_MODEL_3afe2d2e62a541ef86c1f9a05131bbe8"
          }
        },
        "2430cc10b02941f0a0ff66b653c6bd0b": {
          "model_module": "@jupyter-widgets/controls",
          "model_name": "HTMLModel",
          "state": {
            "_view_name": "HTMLView",
            "style": "IPY_MODEL_3028beb6af1b41b7a7695a2291dc7b25",
            "_dom_classes": [],
            "description": "",
            "_model_name": "HTMLModel",
            "placeholder": "​",
            "_view_module": "@jupyter-widgets/controls",
            "_model_module_version": "1.5.0",
            "value": " 8192/? [00:00&lt;00:00, 13711.84it/s]",
            "_view_count": null,
            "_view_module_version": "1.5.0",
            "description_tooltip": null,
            "_model_module": "@jupyter-widgets/controls",
            "layout": "IPY_MODEL_02e7149d2f934d5695dce455192c4ef0"
          }
        },
        "aecc04fc4c944ee6af4b98a0f7a79a39": {
          "model_module": "@jupyter-widgets/controls",
          "model_name": "ProgressStyleModel",
          "state": {
            "_view_name": "StyleView",
            "_model_name": "ProgressStyleModel",
            "description_width": "initial",
            "_view_module": "@jupyter-widgets/base",
            "_model_module_version": "1.5.0",
            "_view_count": null,
            "_view_module_version": "1.2.0",
            "bar_color": null,
            "_model_module": "@jupyter-widgets/controls"
          }
        },
        "3afe2d2e62a541ef86c1f9a05131bbe8": {
          "model_module": "@jupyter-widgets/base",
          "model_name": "LayoutModel",
          "state": {
            "_view_name": "LayoutView",
            "grid_template_rows": null,
            "right": null,
            "justify_content": null,
            "_view_module": "@jupyter-widgets/base",
            "overflow": null,
            "_model_module_version": "1.2.0",
            "_view_count": null,
            "flex_flow": null,
            "width": null,
            "min_width": null,
            "border": null,
            "align_items": null,
            "bottom": null,
            "_model_module": "@jupyter-widgets/base",
            "top": null,
            "grid_column": null,
            "overflow_y": null,
            "overflow_x": null,
            "grid_auto_flow": null,
            "grid_area": null,
            "grid_template_columns": null,
            "flex": null,
            "_model_name": "LayoutModel",
            "justify_items": null,
            "grid_row": null,
            "max_height": null,
            "align_content": null,
            "visibility": null,
            "align_self": null,
            "height": null,
            "min_height": null,
            "padding": null,
            "grid_auto_rows": null,
            "grid_gap": null,
            "max_width": null,
            "order": null,
            "_view_module_version": "1.2.0",
            "grid_template_areas": null,
            "object_position": null,
            "object_fit": null,
            "grid_auto_columns": null,
            "margin": null,
            "display": null,
            "left": null
          }
        },
        "3028beb6af1b41b7a7695a2291dc7b25": {
          "model_module": "@jupyter-widgets/controls",
          "model_name": "DescriptionStyleModel",
          "state": {
            "_view_name": "StyleView",
            "_model_name": "DescriptionStyleModel",
            "description_width": "",
            "_view_module": "@jupyter-widgets/base",
            "_model_module_version": "1.5.0",
            "_view_count": null,
            "_view_module_version": "1.2.0",
            "_model_module": "@jupyter-widgets/controls"
          }
        },
        "02e7149d2f934d5695dce455192c4ef0": {
          "model_module": "@jupyter-widgets/base",
          "model_name": "LayoutModel",
          "state": {
            "_view_name": "LayoutView",
            "grid_template_rows": null,
            "right": null,
            "justify_content": null,
            "_view_module": "@jupyter-widgets/base",
            "overflow": null,
            "_model_module_version": "1.2.0",
            "_view_count": null,
            "flex_flow": null,
            "width": null,
            "min_width": null,
            "border": null,
            "align_items": null,
            "bottom": null,
            "_model_module": "@jupyter-widgets/base",
            "top": null,
            "grid_column": null,
            "overflow_y": null,
            "overflow_x": null,
            "grid_auto_flow": null,
            "grid_area": null,
            "grid_template_columns": null,
            "flex": null,
            "_model_name": "LayoutModel",
            "justify_items": null,
            "grid_row": null,
            "max_height": null,
            "align_content": null,
            "visibility": null,
            "align_self": null,
            "height": null,
            "min_height": null,
            "padding": null,
            "grid_auto_rows": null,
            "grid_gap": null,
            "max_width": null,
            "order": null,
            "_view_module_version": "1.2.0",
            "grid_template_areas": null,
            "object_position": null,
            "object_fit": null,
            "grid_auto_columns": null,
            "margin": null,
            "display": null,
            "left": null
          }
        }
      }
    }
  },
  "cells": [
    {
      "cell_type": "markdown",
      "metadata": {
        "id": "view-in-github",
        "colab_type": "text"
      },
      "source": [
        "<a href=\"https://colab.research.google.com/github/tcotte/AI-Frameworks/blob/master/different_arch.ipynb\" target=\"_parent\"><img src=\"https://colab.research.google.com/assets/colab-badge.svg\" alt=\"Open In Colab\"/></a>"
      ]
    },
    {
      "cell_type": "code",
      "metadata": {
        "colab": {
          "base_uri": "https://localhost:8080/"
        },
        "id": "kDbXQWVHunBn",
        "outputId": "93b42017-756d-4a93-9f27-fe482fb10998"
      },
      "source": [
        "!git clone https://github.com/tcotte/CNN_Pytorch\r\n",
        "%cd CNN_Pytorch"
      ],
      "execution_count": 1,
      "outputs": [
        {
          "output_type": "stream",
          "text": [
            "Cloning into 'CNN_Pytorch'...\n",
            "remote: Enumerating objects: 60, done.\u001b[K\n",
            "remote: Counting objects: 100% (60/60), done.\u001b[K\n",
            "remote: Compressing objects: 100% (52/52), done.\u001b[K\n",
            "remote: Total 60 (delta 13), reused 44 (delta 5), pack-reused 0\u001b[K\n",
            "Unpacking objects: 100% (60/60), done.\n",
            "/content/CNN_Pytorch\n"
          ],
          "name": "stdout"
        }
      ]
    },
    {
      "cell_type": "code",
      "metadata": {
        "id": "cXT30oOVu1-q"
      },
      "source": [
        "import numpy\r\n",
        "import numpy as np\r\n",
        "import torch\r\n",
        "import torch.nn as nn\r\n",
        "import torch.nn.functional as F\r\n",
        "import torch.utils.data.dataloader as dataloader\r\n",
        "import torch.optim as optim\r\n",
        "\r\n",
        "from torch.utils.data import TensorDataset\r\n",
        "from torchvision import transforms\r\n",
        "from torchvision.datasets import MNIST\r\n",
        "import matplotlib.pyplot as plt\r\n",
        "\r\n",
        "SEED = 1\r\n",
        "\r\n",
        "# CUDA?\r\n",
        "cuda = torch.cuda.is_available()\r\n",
        "\r\n",
        "# For reproducibility\r\n",
        "torch.manual_seed(SEED)\r\n",
        "device = torch.device(\"cuda\" if cuda else \"cpu\")\r\n",
        "\r\n",
        "if cuda:\r\n",
        "    torch.cuda.manual_seed(SEED)"
      ],
      "execution_count": 2,
      "outputs": []
    },
    {
      "cell_type": "markdown",
      "metadata": {
        "id": "b6E1qaMWvA6l"
      },
      "source": [
        "### Transformations"
      ]
    },
    {
      "cell_type": "code",
      "metadata": {
        "id": "0lNlLhX4u8zq"
      },
      "source": [
        "from torchvision import transforms\r\n",
        "\r\n",
        "AlexTransform = transforms.Compose([\r\n",
        "    transforms.Resize((227, 227)),\r\n",
        "    transforms.ToTensor(),\r\n",
        "    transforms.Normalize((0.1307,), (0.3081,))\r\n",
        "])\r\n",
        "\r\n",
        "NetTransform = transforms.Compose([\r\n",
        "    transforms.ToTensor(),\r\n",
        "    transforms.Normalize((0.1307,), (0.3081,))                               \r\n",
        "])"
      ],
      "execution_count": 3,
      "outputs": []
    },
    {
      "cell_type": "markdown",
      "metadata": {
        "id": "ZLX0HiaKvyhl"
      },
      "source": [
        "### Load dataset"
      ]
    },
    {
      "cell_type": "code",
      "metadata": {
        "colab": {
          "base_uri": "https://localhost:8080/",
          "height": 390,
          "referenced_widgets": [
            "077e72c77c064f398f988f5a5f7750bc",
            "f44f85a1d6d34e879f6745d755276bee",
            "e2240519da2b4aa2a19682e7c405e98d",
            "3752bc1362f747a680b18f06b427dd9d",
            "a71b058731874f62af4abb3156a1befe",
            "d66c80f7d58449e7893d1ea9207623a0",
            "0906aa5a9457411f84f39f9b8d82f6f9",
            "92173970b3a7466d9a01f67d1a837203",
            "e90c00934f304895af456ba671ac20a9",
            "d3a36616153040fd8c6d7022615225bb",
            "8c19a566cc2247fa8ac49257188d6f4d",
            "bd627568b7bc49afa2c040eea3674ea2",
            "6f7f2593e8834a588fed97d9f46bfb89",
            "80e96678cfdf48a8bec97a985daa2c25",
            "d9f21b1eae264592b105a36b92e66994",
            "4349b89a1efe42038b9efdb7afb24f3c",
            "4eccd154f3a34690be020150a4063c43",
            "d0518046970646a1a29b67eaa8419f12",
            "ec2e964d6ca64f1d94df3668ec6459f8",
            "9ca33871694b4cf6ba7d2d0498084e21",
            "3b035988093e420cbdd65de04f7b5a39",
            "769617c665274b2cace4b8e0b8b6865b",
            "0aead8d1e0e04698a7069e7b10cee7e1",
            "abcdf892e1ad43148443162d9a318086",
            "7ab373ab7da9439590ec913e7521a33e",
            "fd9cec91edd64efab4cf31632db84bd6",
            "52f580eb4b6546ffb8669ec9b7fb47b6",
            "2430cc10b02941f0a0ff66b653c6bd0b",
            "aecc04fc4c944ee6af4b98a0f7a79a39",
            "3afe2d2e62a541ef86c1f9a05131bbe8",
            "3028beb6af1b41b7a7695a2291dc7b25",
            "02e7149d2f934d5695dce455192c4ef0"
          ]
        },
        "id": "U8gc5BEcvx5d",
        "outputId": "7c137bf8-7e87-4939-8a79-6758215070e5"
      },
      "source": [
        "import os\r\n",
        "import torchvision\r\n",
        "\r\n",
        "class_names = ['T-shirt/top', 'Trouser', 'Pullover', 'Dress', 'Coat',\r\n",
        "               'Sandal', 'Shirt', 'Sneaker', 'Bag', 'Ankle boot']\r\n",
        "\r\n",
        "batch_size=256\r\n",
        "dataset_dir = os.path.join(os.path.expanduser(\"~\"), 'Datasets', 'FashionMNIST')\r\n",
        "\r\n",
        "# Load the dataset for alexnet arch\r\n",
        "train_dataset_alex = torchvision.datasets.FashionMNIST(root=dataset_dir,\r\n",
        "                                           train=True,\r\n",
        "                                           transform= AlexTransform,\r\n",
        "                                           download=True)\r\n",
        "\r\n",
        "test_dataset_alex = torchvision.datasets.FashionMNIST(root=dataset_dir,\r\n",
        "                                           train=False,\r\n",
        "                                           transform= AlexTransform,\r\n",
        "                                           download=True)\r\n",
        "\r\n",
        "train_loader_alex = torch.utils.data.DataLoader(dataset=train_dataset_alex,\r\n",
        "                                          batch_size=batch_size,\r\n",
        "                                          shuffle=True,                \r\n",
        "                                          num_workers=4)\r\n",
        "\r\n",
        "test_loader_alex = torch.utils.data.DataLoader(dataset=test_dataset_alex,\r\n",
        "                                          batch_size=batch_size,\r\n",
        "                                          shuffle=True,                \r\n",
        "                                          num_workers=4)\r\n",
        "# Load the dataset for lenet arch\r\n",
        "train_dataset_lenet = torchvision.datasets.FashionMNIST(root=dataset_dir,\r\n",
        "                                           train=True,\r\n",
        "                                           transform= NetTransform,\r\n",
        "                                           download=True)\r\n",
        "\r\n",
        "test_dataset_lenet = torchvision.datasets.FashionMNIST(root=dataset_dir,\r\n",
        "                                           train=False,\r\n",
        "                                           transform= NetTransform,\r\n",
        "                                           download=True)\r\n",
        "\r\n",
        "train_loader_lenet = torch.utils.data.DataLoader(dataset=train_dataset_lenet,\r\n",
        "                                          batch_size=batch_size,\r\n",
        "                                          shuffle=True,                \r\n",
        "                                          num_workers=4)\r\n",
        "\r\n",
        "test_loader_lrnet = torch.utils.data.DataLoader(dataset=test_dataset_lenet,\r\n",
        "                                          batch_size=batch_size,\r\n",
        "                                          shuffle=True,                \r\n",
        "                                          num_workers=4)"
      ],
      "execution_count": 4,
      "outputs": [
        {
          "output_type": "stream",
          "text": [
            "Downloading http://fashion-mnist.s3-website.eu-central-1.amazonaws.com/train-images-idx3-ubyte.gz to /root/Datasets/FashionMNIST/FashionMNIST/raw/train-images-idx3-ubyte.gz\n"
          ],
          "name": "stdout"
        },
        {
          "output_type": "display_data",
          "data": {
            "application/vnd.jupyter.widget-view+json": {
              "model_id": "077e72c77c064f398f988f5a5f7750bc",
              "version_minor": 0,
              "version_major": 2
            },
            "text/plain": [
              "HBox(children=(FloatProgress(value=1.0, bar_style='info', max=1.0), HTML(value='')))"
            ]
          },
          "metadata": {
            "tags": []
          }
        },
        {
          "output_type": "stream",
          "text": [
            "Extracting /root/Datasets/FashionMNIST/FashionMNIST/raw/train-images-idx3-ubyte.gz to /root/Datasets/FashionMNIST/FashionMNIST/raw\n",
            "Downloading http://fashion-mnist.s3-website.eu-central-1.amazonaws.com/train-labels-idx1-ubyte.gz to /root/Datasets/FashionMNIST/FashionMNIST/raw/train-labels-idx1-ubyte.gz\n"
          ],
          "name": "stdout"
        },
        {
          "output_type": "display_data",
          "data": {
            "application/vnd.jupyter.widget-view+json": {
              "model_id": "e90c00934f304895af456ba671ac20a9",
              "version_minor": 0,
              "version_major": 2
            },
            "text/plain": [
              "HBox(children=(FloatProgress(value=1.0, bar_style='info', max=1.0), HTML(value='')))"
            ]
          },
          "metadata": {
            "tags": []
          }
        },
        {
          "output_type": "stream",
          "text": [
            "Extracting /root/Datasets/FashionMNIST/FashionMNIST/raw/train-labels-idx1-ubyte.gz to /root/Datasets/FashionMNIST/FashionMNIST/raw\n",
            "Downloading http://fashion-mnist.s3-website.eu-central-1.amazonaws.com/t10k-images-idx3-ubyte.gz to /root/Datasets/FashionMNIST/FashionMNIST/raw/t10k-images-idx3-ubyte.gz\n"
          ],
          "name": "stdout"
        },
        {
          "output_type": "display_data",
          "data": {
            "application/vnd.jupyter.widget-view+json": {
              "model_id": "4eccd154f3a34690be020150a4063c43",
              "version_minor": 0,
              "version_major": 2
            },
            "text/plain": [
              "HBox(children=(FloatProgress(value=1.0, bar_style='info', max=1.0), HTML(value='')))"
            ]
          },
          "metadata": {
            "tags": []
          }
        },
        {
          "output_type": "stream",
          "text": [
            "Extracting /root/Datasets/FashionMNIST/FashionMNIST/raw/t10k-images-idx3-ubyte.gz to /root/Datasets/FashionMNIST/FashionMNIST/raw\n",
            "Downloading http://fashion-mnist.s3-website.eu-central-1.amazonaws.com/t10k-labels-idx1-ubyte.gz to /root/Datasets/FashionMNIST/FashionMNIST/raw/t10k-labels-idx1-ubyte.gz\n"
          ],
          "name": "stdout"
        },
        {
          "output_type": "display_data",
          "data": {
            "application/vnd.jupyter.widget-view+json": {
              "model_id": "7ab373ab7da9439590ec913e7521a33e",
              "version_minor": 0,
              "version_major": 2
            },
            "text/plain": [
              "HBox(children=(FloatProgress(value=1.0, bar_style='info', max=1.0), HTML(value='')))"
            ]
          },
          "metadata": {
            "tags": []
          }
        },
        {
          "output_type": "stream",
          "text": [
            "Extracting /root/Datasets/FashionMNIST/FashionMNIST/raw/t10k-labels-idx1-ubyte.gz to /root/Datasets/FashionMNIST/FashionMNIST/raw\n",
            "Processing...\n",
            "Done!\n"
          ],
          "name": "stdout"
        },
        {
          "output_type": "stream",
          "text": [
            "/usr/local/lib/python3.6/dist-packages/torchvision/datasets/mnist.py:480: UserWarning: The given NumPy array is not writeable, and PyTorch does not support non-writeable tensors. This means you can write to the underlying (supposedly non-writeable) NumPy array using the tensor. You may want to copy the array to protect its data or make it writeable before converting it to a tensor. This type of warning will be suppressed for the rest of this program. (Triggered internally at  /pytorch/torch/csrc/utils/tensor_numpy.cpp:141.)\n",
            "  return torch.from_numpy(parsed.astype(m[2], copy=False)).view(*s)\n"
          ],
          "name": "stderr"
        }
      ]
    },
    {
      "cell_type": "code",
      "metadata": {
        "colab": {
          "base_uri": "https://localhost:8080/",
          "height": 356
        },
        "id": "b4-YOCAYwaY4",
        "outputId": "89ab22e2-5d64-49bd-c2c7-5ad44b893137"
      },
      "source": [
        "from functions.plot_picture import matplotlib_imshow\r\n",
        "\r\n",
        "# get some random training images\r\n",
        "dataiter = iter(train_loader_lenet)\r\n",
        "\r\n",
        "images, labels = dataiter.next()\r\n",
        "\r\n",
        "# # creat grid of images\r\n",
        "img_grid = torchvision.utils.make_grid(images[0])\r\n",
        "\r\n",
        "# # show images & labels\r\n",
        "matplotlib_imshow(img_grid, class_names[labels[0]])"
      ],
      "execution_count": 5,
      "outputs": [
        {
          "output_type": "stream",
          "text": [
            "\n",
            "\n",
            "\n",
            "\n"
          ],
          "name": "stdout"
        },
        {
          "output_type": "display_data",
          "data": {
            "image/png": "[encoded data removed]",
            "text/plain": [
              "<Figure size 432x288 with 1 Axes>"
            ]
          },
          "metadata": {
            "tags": [],
            "needs_background": "light"
          }
        }
      ]
    },
    {
      "cell_type": "markdown",
      "metadata": {
        "id": "8Mnx6H7_wz2A"
      },
      "source": [
        "### Train all models on 10 epochs"
      ]
    },
    {
      "cell_type": "code",
      "metadata": {
        "colab": {
          "base_uri": "https://localhost:8080/"
        },
        "id": "CijPZfa0woOk",
        "outputId": "4d81eda0-1d8f-4230-d280-a564b2658b36"
      },
      "source": [
        "from functions.training import train_model, evaluate_model\r\n",
        "from models.alexnet_arch import AlexNet\r\n",
        "from models.lenet_arch import Model_Type_LeNet\r\n",
        "import torch.optim as optim\r\n",
        "\r\n",
        "EPOCHS = 10\r\n",
        "losses_an = []\r\n",
        "accuracies_an = []\r\n",
        "nb_batch = int(np.ceil(len(train_loader_alex.dataset)/batch_size))\r\n",
        "\r\n",
        "alexnet_model = AlexNet()\r\n",
        "\r\n",
        "optimizer = optim.Adam(alexnet_model.parameters(),  lr=0.001)\r\n",
        "\r\n",
        "alexnet_model.to(device)\r\n",
        "\r\n",
        "for epoch in range(EPOCHS):\r\n",
        "  losses_an.extend(train_model(train_loader_alex, device, alexnet_model, optimizer, epoch,  EPOCHS, batch_size)[-nb_batch:])\r\n",
        "  accuracies_an.append(evaluate_model(alexnet_model, device, test_loader_alex, losses_an[-1], EPOCHS, epoch, batch_size, len(train_loader_alex.dataset)))"
      ],
      "execution_count": 8,
      "outputs": [
        {
          "output_type": "stream",
          "text": [
            " Train Epoch: 1/10 [60000/60000 (100%)]\tLoss: 0.472191\t Test Accuracy: 83.1200%\n",
            " Train Epoch: 2/10 [60000/60000 (100%)]\tLoss: 0.310699\t Test Accuracy: 82.3400%\n",
            " Train Epoch: 3/10 [60000/60000 (100%)]\tLoss: 0.460918\t Test Accuracy: 86.5400%\n",
            " Train Epoch: 4/10 [60000/60000 (100%)]\tLoss: 0.337230\t Test Accuracy: 87.0700%\n",
            " Train Epoch: 5/10 [60000/60000 (100%)]\tLoss: 0.238969\t Test Accuracy: 88.5700%\n",
            " Train Epoch: 6/10 [60000/60000 (100%)]\tLoss: 0.277748\t Test Accuracy: 88.4800%\n",
            " Train Epoch: 7/10 [60000/60000 (100%)]\tLoss: 0.292527\t Test Accuracy: 88.8600%\n",
            " Train Epoch: 8/10 [60000/60000 (100%)]\tLoss: 0.186328\t Test Accuracy: 88.6300%\n",
            " Train Epoch: 9/10 [60000/60000 (100%)]\tLoss: 0.268950\t Test Accuracy: 88.6800%\n",
            " Train Epoch: 10/10 [60000/60000 (100%)]\tLoss: 0.416402\t Test Accuracy: 89.6900%\n"
          ],
          "name": "stdout"
        }
      ]
    },
    {
      "cell_type": "code",
      "metadata": {
        "colab": {
          "base_uri": "https://localhost:8080/"
        },
        "id": "E9DGsGn9xdGs",
        "outputId": "98cfb8f1-7dfd-466f-8bf7-de3c8149d554"
      },
      "source": [
        "EPOCHS = 10\r\n",
        "losses_ln = []\r\n",
        "accuracies_ln = []\r\n",
        "\r\n",
        "lenet_model = Model_Type_LeNet()\r\n",
        "\r\n",
        "optimizer = optim.Adam(lenet_model.parameters(),  lr=0.001)\r\n",
        "\r\n",
        "alexnet_model.to(device)\r\n",
        "\r\n",
        "for epoch in range(EPOCHS):\r\n",
        "  losses_ln.extend(train_model(train_loader_alex, device, alexnet_model, optimizer, epoch,  EPOCHS, batch_size)[-nb_batch:])\r\n",
        "  accuracies_ln.append(evaluate_model(alexnet_model, device, test_loader_alex, losses_ln[-1], EPOCHS, epoch, batch_size, len(train_loader_alex.dataset)))"
      ],
      "execution_count": 9,
      "outputs": [
        {
          "output_type": "stream",
          "text": [
            " Train Epoch: 1/10 [60000/60000 (100%)]\tLoss: 0.196378\t Test Accuracy: 89.4700%\n",
            " Train Epoch: 2/10 [60000/60000 (100%)]\tLoss: 0.177939\t Test Accuracy: 89.5300%\n",
            " Train Epoch: 3/10 [60000/60000 (100%)]\tLoss: 0.245783\t Test Accuracy: 89.5700%\n",
            " Train Epoch: 4/10 [60000/60000 (100%)]\tLoss: 0.156373\t Test Accuracy: 89.6800%\n",
            " Train Epoch: 5/10 [60000/60000 (100%)]\tLoss: 0.440479\t Test Accuracy: 89.4800%\n",
            " Train Epoch: 6/10 [60000/60000 (100%)]\tLoss: 0.373884\t Test Accuracy: 89.2000%\n",
            " Train Epoch: 7/10 [60000/60000 (100%)]\tLoss: 0.353206\t Test Accuracy: 89.5800%\n",
            " Train Epoch: 8/10 [60000/60000 (100%)]\tLoss: 0.259165\t Test Accuracy: 89.2900%\n",
            " Train Epoch: 9/10 [60000/60000 (100%)]\tLoss: 0.238249\t Test Accuracy: 89.6800%\n",
            " Train Epoch: 10/10 [60000/60000 (100%)]\tLoss: 0.289710\t Test Accuracy: 89.6000%\n"
          ],
          "name": "stdout"
        }
      ]
    },
    {
      "cell_type": "markdown",
      "metadata": {
        "id": "kXI4Fb4740RI"
      },
      "source": [
        "### Dataframes"
      ]
    },
    {
      "cell_type": "code",
      "metadata": {
        "colab": {
          "base_uri": "https://localhost:8080/"
        },
        "id": "XuWNp0Gq9nxH",
        "outputId": "ad15aabf-2d26-4f07-f7de-548ef3a3e1f7"
      },
      "source": [
        "losses_ln[234+235]"
      ],
      "execution_count": 32,
      "outputs": [
        {
          "output_type": "execute_result",
          "data": {
            "text/plain": [
              "0.177939310669899"
            ]
          },
          "metadata": {
            "tags": []
          },
          "execution_count": 32
        }
      ]
    },
    {
      "cell_type": "code",
      "metadata": {
        "id": "shfZjTK2_Ol4"
      },
      "source": [
        "def filter_losses(losses, EPOCHS):\r\n",
        "  losses_filtered = []\r\n",
        "  for i in range(EPOCHS):\r\n",
        "    if i==0:\r\n",
        "      losses_filtered.append(losses[nb_batch-1])\r\n",
        "    else:\r\n",
        "      losses_filtered.append(losses[nb_batch-1+nb_batch*i])\r\n",
        "  return losses_filtered"
      ],
      "execution_count": 44,
      "outputs": []
    },
    {
      "cell_type": "code",
      "metadata": {
        "colab": {
          "base_uri": "https://localhost:8080/"
        },
        "id": "9jsUZduq7KKC",
        "outputId": "c2529f67-5451-4bcb-bc88-59119fab4033"
      },
      "source": [
        "[losses_ln[i] for i in range(len(losses_ln)) if i%(nb_batch) == 0]"
      ],
      "execution_count": 38,
      "outputs": [
        {
          "output_type": "execute_result",
          "data": {
            "text/plain": [
              "[0.20960427820682526,\n",
              " 0.2688341736793518,\n",
              " 0.17846377193927765,\n",
              " 0.16306254267692566,\n",
              " 0.1962045580148697,\n",
              " 0.36711546778678894,\n",
              " 0.2533869445323944,\n",
              " 0.21780484914779663,\n",
              " 0.24229970574378967,\n",
              " 0.23279303312301636]"
            ]
          },
          "metadata": {
            "tags": []
          },
          "execution_count": 38
        }
      ]
    },
    {
      "cell_type": "code",
      "metadata": {
        "colab": {
          "base_uri": "https://localhost:8080/",
          "height": 394
        },
        "id": "F6qNWXnC4zkN",
        "outputId": "2419c23d-9a9a-4413-87ca-65fe2a02fe59"
      },
      "source": [
        "import pandas as pd \r\n",
        "\r\n",
        "d = {('AlexNet architecture', 'accuracy'): accuracies_an,\r\n",
        "     ('AlexNet architecture', 'loss'): filter_losses(losses_an, EPOCHS),\r\n",
        "     ('LeNet architecture','accuracy'): accuracies_ln,\r\n",
        "     ('LeNet architecture','loss'): filter_losses(losses_ln, EPOCHS)\r\n",
        "}\r\n",
        "l=[('AlexNet architecture', 'accuracy'),  ('AlexNet architecture', 'loss'), ('LeNet architecture','accuracy'),  ('LeNet architecture','loss')]\r\n",
        "df = pd.DataFrame(data=d, columns = l)\r\n",
        "\r\n",
        "df.columns = pd.MultiIndex.from_tuples(df.columns, names=['',''])\r\n",
        "df"
      ],
      "execution_count": 69,
      "outputs": [
        {
          "output_type": "execute_result",
          "data": {
            "text/html": [
              "<div>\n",
              "<style scoped>\n",
              "    .dataframe tbody tr th:only-of-type {\n",
              "        vertical-align: middle;\n",
              "    }\n",
              "\n",
              "    .dataframe tbody tr th {\n",
              "        vertical-align: top;\n",
              "    }\n",
              "\n",
              "    .dataframe thead tr th {\n",
              "        text-align: left;\n",
              "    }\n",
              "</style>\n",
              "<table border=\"1\" class=\"dataframe\">\n",
              "  <thead>\n",
              "    <tr>\n",
              "      <th></th>\n",
              "      <th colspan=\"2\" halign=\"left\">AlexNet architecture</th>\n",
              "      <th colspan=\"2\" halign=\"left\">LeNet architecture</th>\n",
              "    </tr>\n",
              "    <tr>\n",
              "      <th></th>\n",
              "      <th>accuracy</th>\n",
              "      <th>loss</th>\n",
              "      <th>accuracy</th>\n",
              "      <th>loss</th>\n",
              "    </tr>\n",
              "  </thead>\n",
              "  <tbody>\n",
              "    <tr>\n",
              "      <th>0</th>\n",
              "      <td>0.8312</td>\n",
              "      <td>0.472191</td>\n",
              "      <td>0.8947</td>\n",
              "      <td>0.196378</td>\n",
              "    </tr>\n",
              "    <tr>\n",
              "      <th>1</th>\n",
              "      <td>0.8234</td>\n",
              "      <td>0.310699</td>\n",
              "      <td>0.8953</td>\n",
              "      <td>0.177939</td>\n",
              "    </tr>\n",
              "    <tr>\n",
              "      <th>2</th>\n",
              "      <td>0.8654</td>\n",
              "      <td>0.460918</td>\n",
              "      <td>0.8957</td>\n",
              "      <td>0.245783</td>\n",
              "    </tr>\n",
              "    <tr>\n",
              "      <th>3</th>\n",
              "      <td>0.8707</td>\n",
              "      <td>0.337230</td>\n",
              "      <td>0.8968</td>\n",
              "      <td>0.156373</td>\n",
              "    </tr>\n",
              "    <tr>\n",
              "      <th>4</th>\n",
              "      <td>0.8857</td>\n",
              "      <td>0.238969</td>\n",
              "      <td>0.8948</td>\n",
              "      <td>0.440479</td>\n",
              "    </tr>\n",
              "    <tr>\n",
              "      <th>5</th>\n",
              "      <td>0.8848</td>\n",
              "      <td>0.277748</td>\n",
              "      <td>0.8920</td>\n",
              "      <td>0.373884</td>\n",
              "    </tr>\n",
              "    <tr>\n",
              "      <th>6</th>\n",
              "      <td>0.8886</td>\n",
              "      <td>0.292527</td>\n",
              "      <td>0.8958</td>\n",
              "      <td>0.353206</td>\n",
              "    </tr>\n",
              "    <tr>\n",
              "      <th>7</th>\n",
              "      <td>0.8863</td>\n",
              "      <td>0.186328</td>\n",
              "      <td>0.8929</td>\n",
              "      <td>0.259165</td>\n",
              "    </tr>\n",
              "    <tr>\n",
              "      <th>8</th>\n",
              "      <td>0.8868</td>\n",
              "      <td>0.268950</td>\n",
              "      <td>0.8968</td>\n",
              "      <td>0.238249</td>\n",
              "    </tr>\n",
              "    <tr>\n",
              "      <th>9</th>\n",
              "      <td>0.8969</td>\n",
              "      <td>0.416402</td>\n",
              "      <td>0.8960</td>\n",
              "      <td>0.289710</td>\n",
              "    </tr>\n",
              "  </tbody>\n",
              "</table>\n",
              "</div>"
            ],
            "text/plain": [
              "  AlexNet architecture           LeNet architecture          \n",
              "              accuracy      loss           accuracy      loss\n",
              "0               0.8312  0.472191             0.8947  0.196378\n",
              "1               0.8234  0.310699             0.8953  0.177939\n",
              "2               0.8654  0.460918             0.8957  0.245783\n",
              "3               0.8707  0.337230             0.8968  0.156373\n",
              "4               0.8857  0.238969             0.8948  0.440479\n",
              "5               0.8848  0.277748             0.8920  0.373884\n",
              "6               0.8886  0.292527             0.8958  0.353206\n",
              "7               0.8863  0.186328             0.8929  0.259165\n",
              "8               0.8868  0.268950             0.8968  0.238249\n",
              "9               0.8969  0.416402             0.8960  0.289710"
            ]
          },
          "metadata": {
            "tags": []
          },
          "execution_count": 69
        }
      ]
    },
    {
      "cell_type": "code",
      "metadata": {
        "id": "wD4aSeZ0MIZ0"
      },
      "source": [
        "!mkdir csv"
      ],
      "execution_count": 89,
      "outputs": []
    },
    {
      "cell_type": "code",
      "metadata": {
        "id": "8q0SAA_mK1EQ"
      },
      "source": [
        "#Save the df\r\n",
        "df.to_csv('csv/differences_on_fashion.csv')\r\n"
      ],
      "execution_count": 108,
      "outputs": []
    },
    {
      "cell_type": "code",
      "metadata": {
        "colab": {
          "base_uri": "https://localhost:8080/",
          "height": 423
        },
        "id": "KM1e0SIgHaLW",
        "outputId": "5c40bd21-9762-41ab-b362-f7afb1266263"
      },
      "source": [
        "\r\n",
        "fig, (ax1, ax2) = plt.subplots(1, 2, sharey=True, figsize=(15,6))\r\n",
        "\r\n",
        "ax1.plot(np.arange(EPOCHS), accuracies_ln)\r\n",
        "ax1.plot(np.arange(EPOCHS), accuracies_an)\r\n",
        "ax2.plot(np.arange(EPOCHS), filter_losses(losses_an, EPOCHS))\r\n",
        "ax2.plot(np.arange(EPOCHS), filter_losses(losses_ln, EPOCHS))\r\n",
        "plt.ylim(0,1)\r\n",
        "ax1.set_title(\"Test accuracy during epochs\")\r\n",
        "ax2.set_title(\"Train loss during epochs\")\r\n",
        "\r\n",
        "for ax in [ax1, ax2]:\r\n",
        "  ax.set_xlabel(\"Epochs\")\r\n",
        "\r\n",
        "ax1.set_ylabel(\"Test accuracy\")\r\n",
        "ax2.set_ylabel(\"Train loss\")"
      ],
      "execution_count": 88,
      "outputs": [
        {
          "output_type": "execute_result",
          "data": {
            "text/plain": [
              "Text(0, 0.5, 'Train loss')"
            ]
          },
          "metadata": {
            "tags": []
          },
          "execution_count": 88
        },
        {
          "output_type": "display_data",
          "data": {
            "image/png": "[encoded data removed]",
            "text/plain": [
              "<Figure size 1080x432 with 2 Axes>"
            ]
          },
          "metadata": {
            "tags": [],
            "needs_background": "light"
          }
        }
      ]
    }
  ]
}